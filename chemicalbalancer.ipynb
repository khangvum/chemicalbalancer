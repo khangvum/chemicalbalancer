{
 "cells": [
  {
   "cell_type": "markdown",
   "id": "2a4b7942-75ba-41b2-9386-8305f34258a8",
   "metadata": {},
   "source": [
    "# chemicalbalancer\n",
    "\n",
    "A Python program that **_balances chemical equations_** by determining the correct stoichiometric coefficients for each reactant and product."
   ]
  },
  {
   "cell_type": "markdown",
   "id": "94218bd2-0051-492f-87f7-283c1dec3e80",
   "metadata": {},
   "source": [
    "## Features\n",
    "\n",
    "-   Accepts chemical equations in a **_familiar format_** (_e.g._ `Fe3O4 + HNO3 -> Fe(NO3)2 + Fe(NO3)3 + H2O`).\n",
    "-   Decomposes compounds into **_individual elements_** and their respective **_counts_**.\n",
    "-   Correctly processes compounds with **_parentheses_** (`()`) and **_brackets_** (`[]`) to account for **_nested groups_** and their multipliers."
   ]
  },
  {
   "cell_type": "markdown",
   "id": "08452dc2-015a-4545-9208-87b9c052ada4",
   "metadata": {},
   "source": [
    "## Matrix Algebra for Balancing Equations\n",
    "\n",
    "Chemical equation balancing can be formulated as a **_system of linear equations_**, which can be solved using **_matrix algebra_**. The process involves the following steps:"
   ]
  },
  {
   "cell_type": "markdown",
   "id": "ed77b780-7e70-4f63-9224-3179559d61e1",
   "metadata": {},
   "source": [
    "### Import Modules\n",
    "\n",
    "Firstly, import the required modules: regular expression, matrix, and least common multiple."
   ]
  },
  {
   "cell_type": "code",
   "execution_count": 1,
   "id": "42b60842-91cc-4f79-b2ea-42c5f475e97e",
   "metadata": {},
   "outputs": [],
   "source": [
    "# Regular Expression\n",
    "import re\n",
    "# Matrix and least common multiple\n",
    "from sympy import Matrix, lcm"
   ]
  },
  {
   "cell_type": "markdown",
   "id": "3d2eb5a4-feed-42ab-87c5-3385b9250b56",
   "metadata": {},
   "source": [
    "Initialize:\n",
    "-   **Element list:** Keeps track of all unique chemical elements (_e.g._ $Fe$, $O$, $H$, etc.) found in the chemical equation.\n",
    "-   **Element matrix:** Represents the counts of each element in the reactants and products."
   ]
  },
  {
   "cell_type": "code",
   "execution_count": 2,
   "id": "447caa2f-6eb4-4813-bd87-9775b795bc6a",
   "metadata": {},
   "outputs": [],
   "source": [
    "element_list = []\n",
    "element_matrix = []"
   ]
  },
  {
   "cell_type": "markdown",
   "id": "d8822850-53fa-458b-85db-9bb5886f4b00",
   "metadata": {},
   "source": [
    "Identify the **_reactants_** and **_products_** in the input chemical equation."
   ]
  },
  {
   "cell_type": "code",
   "execution_count": 3,
   "id": "6966a79c-6ae3-45cd-a7fd-6b72b20f44e7",
   "metadata": {},
   "outputs": [
    {
     "name": "stdout",
     "output_type": "stream",
     "text": [
      "Reactants: ['Fe3O4', 'HNO3']\n",
      "Products: ['Fe(NO3)2', 'Fe(NO3)3', 'H2O']\n"
     ]
    }
   ],
   "source": [
    "# Get the chemical equation\n",
    "equation = \"Fe3O4+HNO3->Fe(NO3)2+Fe(NO3)3+H2O\"\n",
    "equation = re.sub(r\"[ \\[\\]]\", \"\", equation).split(\"->\")\n",
    "\n",
    "# Get the reactants and products from the equation\n",
    "reactants = equation[0].split(\"+\")\n",
    "products = equation[1].split(\"+\")\n",
    "\n",
    "# Print the reactants and products lists\n",
    "print(f\"Reactants: {reactants}\")\n",
    "print(f\"Products: {products}\")"
   ]
  },
  {
   "cell_type": "markdown",
   "id": "4a9d0749-5998-4fe4-bca1-1b3183077a9f",
   "metadata": {},
   "source": [
    "### Equation Representation as a Matrix\n",
    "\n",
    "Each chemical equation is **_parsed_** and then **_represented_** as a **_coefficient matrix_** where:\n",
    "\n",
    "-   **_Rows_** represent **_elements_** (_e.g._ $Fe$, $O$, $H$, etc.).\n",
    "-   **_Columns_** represent **_compounds_** (reactants and products).\n",
    "-   Each entry represents the **_number of atoms_** of a given **_element in a compound_**.\n",
    "-   Example:\n",
    "\n",
    "$$\n",
    "Fe_3O_4 + HNO_3 \\rightarrow Fe(NO_3)_2 + Fe(NO_3)_3 + H_2O\n",
    "$$\n",
    "\n",
    "The matrix is set up by **_counting atoms_** of each elements:\n",
    "\n",
    "Element |Fe<sub>3</sub>O<sub>4</sub>|HNO<sub>3</sub>    |Fe(NO<sub>3</sub>)<sub>2</sub> |Fe(NO<sub>3</sub>)<sub>3</sub> |H<sub>2</sub>O\n",
    ":------:|:-------------------------:|:-----------------:|:-----------------------------:|:-----------------------------:|:------------:\n",
    "**Fe**  |3                          |0                  |-1                             |-1                             |0\n",
    "**O**   |4                          |3                  |-6                             |-9                             |-1\n",
    "**H**   |0                          |1                  |0                              |0                              |-2\n",
    "**N**   |0                          |1                  |-2                             |-3                             |0\n"
   ]
  },
  {
   "cell_type": "markdown",
   "id": "085e014a-f0a1-47f1-b885-82c59653c275",
   "metadata": {},
   "source": [
    "The `add_to_matrix` function updates the `element_matrix` with the **_count_** of a specific **_element_** for a given compound."
   ]
  },
  {
   "cell_type": "code",
   "execution_count": 4,
   "id": "40a76407-d6e4-47fa-aeda-9c22526b117a",
   "metadata": {},
   "outputs": [],
   "source": [
    "# Add the elements to the matrix\n",
    "def add_to_matrix(element, index, side, count):\n",
    "    if index == len(element_matrix):\n",
    "        element_matrix.append([0] * len(element_list))\n",
    "\n",
    "    if element not in element_list:\n",
    "        element_list.append(element)\n",
    "        for i in range(len(element_matrix)):\n",
    "            element_matrix[i].append(0)\n",
    "\n",
    "    column = element_list.index(element)\n",
    "    element_matrix[index][column] += count * side"
   ]
  },
  {
   "cell_type": "markdown",
   "id": "f60ae709-e8b8-4a0b-9220-e1c9cd151396",
   "metadata": {},
   "source": [
    "The `find_elements` function decomposes a **_chemical group_** into its constituent **_elements_** and their **_counts_**, then adds them to the matrix using the `add_to_matrix` function."
   ]
  },
  {
   "cell_type": "code",
   "execution_count": 5,
   "id": "50d8e6b4-a247-4d6a-86c2-afc53cd9ad8a",
   "metadata": {},
   "outputs": [],
   "source": [
    "# Find the elements in a decomposed group\n",
    "def find_elements(group, index, side, multiplier):\n",
    "    elements = re.split(\"([A-Z][a-z]?)\", group)\n",
    "    # Filter out empty strings\n",
    "    # re.split produces empty strings at the beginning and end of the list\n",
    "    elements = [element for element in elements if element]\n",
    "    elements.append('')\n",
    "\n",
    "    i = 0\n",
    "    while i < len(elements) and elements[i]:\n",
    "        count = multiplier\n",
    "        if elements[i + 1].isdigit():\n",
    "            count *= int(elements[i + 1])\n",
    "        \n",
    "        add_to_matrix(elements[i], index, side, count)\n",
    "\n",
    "        i += 2 if elements[i + 1].isdigit() else 1"
   ]
  },
  {
   "cell_type": "markdown",
   "id": "be2cc5f1-2a6e-4023-b5e8-59adde439770",
   "metadata": {},
   "source": [
    "The `decompose_compound` function breaks down a **_compound_** into **_smaller groups_** and processes each group to extract elements and their counts using the `find_elements` function."
   ]
  },
  {
   "cell_type": "code",
   "execution_count": 6,
   "id": "9fd702c4-8ea7-4bc8-937c-5aeafb67f4d3",
   "metadata": {},
   "outputs": [],
   "source": [
    "# Decompose the compound into elements and their respective count \n",
    "def decompose_compound(compound, index, side):\n",
    "    groups = re.split(r\"(\\([A-Za-z0-9]*\\)[0-9]*)\", compound)\n",
    "    groups = [group for group in groups if group]\n",
    "\n",
    "    for group in groups:\n",
    "        multiplier = 1\n",
    "        if group.startswith(\"(\"):\n",
    "            group = re.split(r\"\\)([0-9]*)\", group)\n",
    "            if group[1].isdigit():\n",
    "                multiplier = int(group[1])\n",
    "            group = group[0][1:]\n",
    "\n",
    "        find_elements(group, index, side, multiplier)"
   ]
  },
  {
   "cell_type": "markdown",
   "id": "b986c464-f21d-41ec-a3ba-2904038b4d39",
   "metadata": {},
   "source": [
    "Add the **_elements_** to the **_matrix_** using the `decompose_compound` function."
   ]
  },
  {
   "cell_type": "code",
   "execution_count": 7,
   "id": "7e0dd1e3-0580-403c-b716-eb5af1f7e360",
   "metadata": {},
   "outputs": [
    {
     "name": "stdout",
     "output_type": "stream",
     "text": [
      "Element list: ['Fe', 'O', 'H', 'N']\n",
      "Element matrix: [[3, 4, 0, 0], [0, 3, 1, 1], [-1, -6, 0, -2], [-1, -9, 0, -3], [0, -1, -2, 0]]\n"
     ]
    }
   ],
   "source": [
    "for i in range(len(reactants)):\n",
    "    decompose_compound(reactants[i], i, 1)\n",
    "for i in range(len(products)):\n",
    "    decompose_compound(products[i], i + len(reactants), -1)\n",
    "\n",
    "print(f\"Element list: {element_list}\")\n",
    "print(f\"Element matrix: {element_matrix}\")"
   ]
  },
  {
   "cell_type": "markdown",
   "id": "02a03fb2-4c62-4fd6-9dd1-6f8fcce3eb68",
   "metadata": {},
   "source": [
    "### Chemical Equation Balanced Using Gaussian Elimination\n",
    "\n",
    "The table above forms a **_system of linear equations_**, expressed as a **_matrix equation_** which needs solving: \n",
    "\n",
    "$$\n",
    "Ax = 0\n",
    "$$\n",
    "\n",
    "where **A** is the coefficient matrix, and **x** is the vector of unknown stoichiometric coefficients."
   ]
  },
  {
   "cell_type": "markdown",
   "id": "b80bc907-02c7-40b6-ade4-618f2b51b110",
   "metadata": {},
   "source": [
    "#### Step 1: Convert to Augmented Matrix Form\n",
    "\n",
    "Since the equation is homogeneous ($Ax = 0$), a **_zero column vector_** is appended to the matrix:\n",
    "\n",
    "$$\n",
    "\\begin{bmatrix}\n",
    "3 & 0 & -1 & -1 & 0 \\\\\n",
    "4 & 3 & -6 & -9 & -1 \\\\\n",
    "0 & 1 & 0 & 0 & -2 \\\\\n",
    "0 & 1 & -2 & -3 & 0\n",
    "\\end{bmatrix}\n",
    "\\begin{bmatrix}\n",
    "x_1 \\\\\n",
    "x_2 \\\\\n",
    "x_3 \\\\\n",
    "x_4 \\\\\n",
    "x_5\n",
    "\\end{bmatrix}\n",
    "=\n",
    "\\begin{bmatrix}\n",
    "0 \\\\\n",
    "0 \\\\\n",
    "0 \\\\\n",
    "0\n",
    "\\end{bmatrix}\n",
    "$$"
   ]
  },
  {
   "cell_type": "markdown",
   "id": "b98aa088-d1d2-4f58-a443-5807ddce1268",
   "metadata": {},
   "source": [
    "#### Step 2: Transform to Reduced Row Echelon Form (RRRF)\n",
    "\n",
    "**_Gaussian elimination_** is applied to transform **A** into an **_RREF matrix_**, where:\n",
    "\n",
    "-   All rows having **_only zero entries_** are at the **_bottom_**.\n",
    "-   The **_leading entry_** (the left-most nonzero entry) of every nonzero row, called the **_pivot_**, is on the **_right_** of the leading entry of every row above.\n",
    "-   The **_leading entry_** in each nonzero row is **_1_** (called a **_leading one_**).\n",
    "-   Each **_column_** containing a **_leading one_** has **_zeros_** in all its other entries.\n",
    "\n",
    "After **_row reduction_**, the matrix should have a form of:\n",
    "\n",
    "$$\n",
    "\\begin{bmatrix}\n",
    "1 & 0 & 0 & 0 & b_1 \\\\\n",
    "0 & 1 & 0 & 0 & b_2 \\\\\n",
    "0 & 0 & 1 & 0 & b_3 \\\\\n",
    "0 & 0 & 0 & 1 & b_4\n",
    "\\end{bmatrix}\n",
    "$$\n",
    "\n",
    "In this case, the coefficient matrix should be:\n",
    "\n",
    "$$\n",
    "\\begin{bmatrix}\n",
    "1 & 0 & 0 & 0 & -\\frac{1}{4} \\\\\n",
    "0 & 1 & 0 & 0 & -2 \\\\\n",
    "0 & 0 & 1 & 0 & -\\frac{1}{4} \\\\\n",
    "0 & 0 & 0 & 1 & -\\frac{1}{2}\n",
    "\\end{bmatrix}\n",
    "$$"
   ]
  },
  {
   "cell_type": "code",
   "execution_count": 8,
   "id": "b498a586-309b-4db9-bee0-6c0c68c52906",
   "metadata": {},
   "outputs": [
    {
     "name": "stdout",
     "output_type": "stream",
     "text": [
      "Element matrix: [[3, 4, 0, 0], [0, 3, 1, 1], [-1, -6, 0, -2], [-1, -9, 0, -3], [0, -1, -2, 0]]\n"
     ]
    }
   ],
   "source": [
    "# Balance the equation\n",
    "sympy_element_matrix = Matrix(element_matrix).transpose()\n",
    "\n",
    "print(f\"Element matrix: {element_matrix}\")"
   ]
  },
  {
   "cell_type": "markdown",
   "id": "10d96426-ff20-4a42-a769-44de966e6169",
   "metadata": {},
   "source": [
    "### Step 3: Extract the Solution\n",
    "\n",
    "Since the system is **_underdetermined_** (more variables than equations), some variables have to be expressed **_in terms of others_**:\n",
    "\n",
    "$$\n",
    "x_1 = \\frac{1}{4} x_5, \\quad x_2 = 2 x_5, \\quad x_3 = \\frac{1}{4} x_5, \\quad x_4 = \\frac{1}{2} x_5\n",
    "$$\n",
    "\n",
    "A **_free variable_** is then chosen (_e.g._ $x_5 = 1$) and substitute back to solve for integer values for all coefficients."
   ]
  },
  {
   "cell_type": "code",
   "execution_count": 9,
   "id": "a04bdc68-1360-495b-b1fc-21ab5290021d",
   "metadata": {},
   "outputs": [
    {
     "name": "stdout",
     "output_type": "stream",
     "text": [
      "Solution: Matrix([[1/4], [2], [1/4], [1/2], [1]])\n"
     ]
    }
   ],
   "source": [
    "# Get the nullspace of the matrix (Solve the system of equations)\n",
    "solution = sympy_element_matrix.nullspace()[0]\n",
    "\n",
    "print(f\"Solution: {solution}\")"
   ]
  },
  {
   "cell_type": "markdown",
   "id": "50c6f17c-a943-429a-a2ee-fe7515688902",
   "metadata": {},
   "source": [
    "### Step 4: Integer Scaling\n",
    "\n",
    "Since coefficients cannot be in **_fractions_** or **_decimals_**, they need scaling by multiplying them by the **_least common multiple_** (**_LCM_**) of denominators to obtain the **_smallest integer solution_**.\n",
    "\n",
    "In this case, the solution from step 3 is:\n",
    "\n",
    "$$\n",
    "\\left(\\frac{1}{4}, 2, \\frac{1}{4}, \\frac{1}{2}, 1\\right)\n",
    "$$\n",
    "\n",
    "we multiply by 4 to get:\n",
    "\n",
    "$$\n",
    "\\left(1,8,1,2,4\\right)\n",
    "$$"
   ]
  },
  {
   "cell_type": "code",
   "execution_count": 10,
   "id": "462ec91c-417b-44cf-995c-62206c43a213",
   "metadata": {},
   "outputs": [
    {
     "name": "stdout",
     "output_type": "stream",
     "text": [
      "Solution: Matrix([[1], [8], [1], [2], [4]])\n"
     ]
    }
   ],
   "source": [
    "multiple = lcm([val.q for val in solution])\n",
    "# Make all the coefficients integers\n",
    "solution *= multiple\n",
    "\n",
    "print(f\"Solution: {solution}\")"
   ]
  },
  {
   "cell_type": "markdown",
   "id": "45a92aab-154a-442a-a797-c23fef8080db",
   "metadata": {},
   "source": [
    "which are the final stoichiometric coefficients, resulting in the balanced equation:\n",
    "\n",
    "$$\n",
    "Fe_3O_4 + 8HNO_3 \\rightarrow Fe(NO_3)_2 + 2Fe(NO_3)_3 + 4H_2O\n",
    "$$"
   ]
  },
  {
   "cell_type": "code",
   "execution_count": 11,
   "id": "cb8a391e-8aa3-4ecb-883a-a2ab59bc6345",
   "metadata": {},
   "outputs": [
    {
     "name": "stdout",
     "output_type": "stream",
     "text": [
      "1Fe3O4 + 8HNO3 -> 1Fe(NO3)2 + 2Fe(NO3)3 + 4H2O\n"
     ]
    }
   ],
   "source": [
    "# Print the balanced equation\n",
    "coefficients = solution.tolist()\n",
    "result = \"\"\n",
    "\n",
    "for i in range(len(reactants)):\n",
    "    result += str(coefficients[i][0]) + reactants[i]\n",
    "    if i < len(reactants) - 1:\n",
    "        result += \" + \"\n",
    "\n",
    "result += \" -> \"\n",
    "\n",
    "for i in range(len(products)):\n",
    "    result += str(coefficients[i + len(reactants)][0]) + products[i]\n",
    "    if i < len(products) - 1:\n",
    "        result += \" + \"\n",
    "\n",
    "print(result)"
   ]
  },
  {
   "cell_type": "markdown",
   "id": "f275fa9e-e30d-468e-ab2d-33f903458596",
   "metadata": {},
   "source": [
    "## Demonstration\n",
    "\n",
    "The following examples illustrate chemical equations that have been balanced using the algorithm:"
   ]
  },
  {
   "cell_type": "code",
   "execution_count": 12,
   "id": "568a820a-a851-4e58-919e-700dfff8c566",
   "metadata": {},
   "outputs": [],
   "source": [
    "def balance_equation(equation):\n",
    "    global element_list, element_matrix\n",
    "    \n",
    "    element_list = []\n",
    "    element_matrix = []\n",
    "\n",
    "    # Get the chemical equation\n",
    "    equation = re.sub(r\"[ \\[\\]]\", \"\", equation).split(\"->\")\n",
    "\n",
    "    # Get the reactants and products from the equation\n",
    "    reactants = equation[0].split(\"+\")\n",
    "    products = equation[1].split(\"+\")\n",
    "\n",
    "    for i in range(len(reactants)):\n",
    "        decompose_compound(reactants[i], i, 1)\n",
    "    for i in range(len(products)):\n",
    "        decompose_compound(products[i], i + len(reactants), -1)\n",
    "\n",
    "    # Balance the equation\n",
    "    sympy_element_matrix = Matrix(element_matrix).transpose()\n",
    "    # Get the nullspace of the matrix (Solve the system of equations)\n",
    "    solution = sympy_element_matrix.nullspace()[0]\n",
    "    # Make all the coefficients integers\n",
    "    multiple = lcm([val.q for val in solution])\n",
    "    solution *= multiple\n",
    "\n",
    "    # Print the balanced equation\n",
    "    coefficients = solution.tolist()\n",
    "    result = \"\"\n",
    "\n",
    "    for i in range(len(reactants)):\n",
    "        result += str(coefficients[i][0]) + reactants[i]\n",
    "        if i < len(reactants) - 1:\n",
    "            result += \" + \"\n",
    "\n",
    "    result += \" -> \"\n",
    "\n",
    "    for i in range(len(products)):\n",
    "        result += str(coefficients[i + len(reactants)][0]) + products[i]\n",
    "        if i < len(products) - 1:\n",
    "            result += \" + \"\n",
    "\n",
    "    print(result)"
   ]
  },
  {
   "cell_type": "markdown",
   "id": "7107967b-e377-42bf-a7d2-58f31c61ce80",
   "metadata": {},
   "source": [
    "1.  **Equation:** $C_{57}H_{110}O_6 + O_2 \\rightarrow CO_2 + H_2O$\n",
    "    \n",
    "    **Solution:** $2C_{57}H_{110}O_6 + 163O_2 \\rightarrow 114CO_2 + 110H_2O$"
   ]
  },
  {
   "cell_type": "code",
   "execution_count": 13,
   "id": "ba38af63-6855-4438-a985-93d42f60b536",
   "metadata": {},
   "outputs": [
    {
     "name": "stdout",
     "output_type": "stream",
     "text": [
      "2C57H110O6 + 163O2 -> 114CO2 + 110H2O\n"
     ]
    }
   ],
   "source": [
    "balance_equation(\"C57H110O6+O2->CO2+H2O\")"
   ]
  },
  {
   "cell_type": "markdown",
   "id": "bfb232bb-3e51-48e0-8cd0-e6ca583256c7",
   "metadata": {},
   "source": [
    "2.  **Equation:** $C_{12}H_{22}O_{11} + KNO_3 \\rightarrow K_2CO3 + N_2 + CO_2 + H_2O$\n",
    "\n",
    "    **Solution:** $5C_{12}H_{22}O_{11} + 48KNO_3 \\rightarrow 24K_2CO3 + 24N_2 + 36CO_2 + 55H_2O$"
   ]
  },
  {
   "cell_type": "code",
   "execution_count": 14,
   "id": "7855ae67-0a0f-447a-990a-9b01f7da147d",
   "metadata": {},
   "outputs": [
    {
     "name": "stdout",
     "output_type": "stream",
     "text": [
      "5C12H22O11 + 48KNO3 -> 24K2CO3 + 24N2 + 36CO2 + 55H2O\n"
     ]
    }
   ],
   "source": [
    "balance_equation(\"C12H22O11+KNO3->K2CO3+N2+CO2+H2O\")"
   ]
  },
  {
   "cell_type": "markdown",
   "id": "bd8f165d-2cc2-4383-a35c-77737e0e4065",
   "metadata": {},
   "source": [
    "3.  **Equation:** $K_4[Fe(SCN)_6] + K_2Cr_2O_7 + H_2SO_4 \\rightarrow Fe_2(SO_4)_3 + Cr_2(SO4)_3 + CO_2 + H_2O + K_2SO_4 + KNO_3$\n",
    "    \n",
    "    **Solution:** $6K_4[Fe(SCN)_6] + 97K_2Cr_2O_7 + 355H_2SO_4 \\rightarrow 3Fe_2(SO_4)_3 + 97Cr_2(SO4)_3 + 36CO_2 + 355H_2O + 91K_2SO_4 + 36KNO_3$"
   ]
  },
  {
   "cell_type": "code",
   "execution_count": 15,
   "id": "4639b6fc-8be6-4f55-bfd7-4de87fd9b1fd",
   "metadata": {},
   "outputs": [
    {
     "name": "stdout",
     "output_type": "stream",
     "text": [
      "6K4Fe(SCN)6 + 97K2Cr2O7 + 355H2SO4 -> 3Fe2(SO4)3 + 97Cr2(SO4)3 + 36CO2 + 355H2O + 91K2SO4 + 36KNO3\n"
     ]
    }
   ],
   "source": [
    "balance_equation(\"K4[Fe(SCN)6]+K2Cr2O7+H2SO4->Fe2(SO4)3+Cr2(SO4)3+CO2+H2O+K2SO4+KNO3\")"
   ]
  },
  {
   "cell_type": "markdown",
   "id": "b3552788-fde5-494e-8ad7-a5eaa1891b29",
   "metadata": {},
   "source": [
    "## Collaboration\n",
    "\n",
    "This project is a collaboration between:\n",
    "\n",
    "-   **Ton Nu Thanh Thao**: [GitHub](https://github.com/thaoton1910) | [LinkedIn](https://www.linkedin.com/in/ton-nu-thanh-thao/) | [Gmail](mailto:thaoton1910@gmail.com)\n",
    "-   **Khang Vu**: [GitHub](https://github.com/khangvum) | [LinkedIn](https://www.linkedin.com/in/khangvum/) | [Gmail](mailto:manhkhang0305@gmail.com)"
   ]
  }
 ],
 "metadata": {
  "kernelspec": {
   "display_name": "Python 3 (ipykernel)",
   "language": "python",
   "name": "python3"
  },
  "language_info": {
   "codemirror_mode": {
    "name": "ipython",
    "version": 3
   },
   "file_extension": ".py",
   "mimetype": "text/x-python",
   "name": "python",
   "nbconvert_exporter": "python",
   "pygments_lexer": "ipython3",
   "version": "3.12.10"
  }
 },
 "nbformat": 4,
 "nbformat_minor": 5
}
